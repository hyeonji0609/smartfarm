{
 "cells": [
  {
   "cell_type": "code",
   "execution_count": 1,
   "metadata": {},
   "outputs": [],
   "source": [
    "from pymongo import MongoClient\n",
    "import gridfs\n",
    "from bson.objectid import ObjectId\n",
    "from PIL import Image\n",
    "import io\n",
    "\n",
    "client = MongoClient('mongodb://localhost:27017/')\n",
    "db = client['smartfarm']\n",
    "fs = gridfs.GridFS(db)\n",
    "\n",
    "def get_images_from_gridfs(image_ids):\n",
    "    images = []\n",
    "\n",
    "    for image_id in image_ids:\n",
    "        try:\n",
    "            image_data = fs.get(ObjectId(image_id))\n",
    "            image_stream = io.BytesIO(image_data.read())\n",
    "            image = Image.open(image_stream)\n",
    "            images.append(image)\n",
    "\n",
    "        except gridfs.errors.NoFile:\n",
    "            print(f\"No image found with id: {image_id}\")\n",
    "            images.append(None)\n",
    "\n",
    "    return images\n",
    "\n",
    "image_ids = [\n",
    "    \"66c56a37154d2b4bfbbb8ca1\",\n",
    "    \"66c56a42154d2b4bfbbb8ca4\",\n",
    "    \"66c56a4f154d2b4bfbbb8ca7\"\n",
    "]\n",
    "\n",
    "images = get_images_from_gridfs(image_ids)"
   ]
  }
 ],
 "metadata": {
  "kernelspec": {
   "display_name": "mlops",
   "language": "python",
   "name": "python3"
  },
  "language_info": {
   "codemirror_mode": {
    "name": "ipython",
    "version": 3
   },
   "file_extension": ".py",
   "mimetype": "text/x-python",
   "name": "python",
   "nbconvert_exporter": "python",
   "pygments_lexer": "ipython3",
   "version": "3.11.9"
  }
 },
 "nbformat": 4,
 "nbformat_minor": 2
}
