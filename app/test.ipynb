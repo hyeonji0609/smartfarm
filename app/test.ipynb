{
 "cells": [
  {
   "cell_type": "code",
   "execution_count": 2,
   "metadata": {},
   "outputs": [],
   "source": [
    "from pymongo import MongoClient\n",
    "import gridfs\n",
    "from PIL import Image\n",
    "import io\n",
    "\n",
    "client = MongoClient('mongodb://220.92.62.203:27017/')\n",
    "db = client['smartfarm']\n",
    "fs = gridfs.GridFS(db)\n",
    "\n",
    "def get_image_by_filename(filename):\n",
    "    try:\n",
    "        image_data = fs.find_one({\"filename\": filename})\n",
    "        if image_data:\n",
    "            image_stream = io.BytesIO(image_data.read())\n",
    "            image = Image.open(image_stream)\n",
    "            return image\n",
    "        else:\n",
    "            print(f\"No image found with filename: {filename}\")\n",
    "            return None\n",
    "    except gridfs.errors.NoFile:\n",
    "        print(f\"No image found with filename: {filename}\")\n",
    "        return None\n",
    "\n",
    "# 주어진 문서에서 image_id를 사용하여 이미지 불러오기\n",
    "image = get_image_by_filename(\"DEVICE_001_20240902-054150.jpg\")\n",
    "\n",
    "if image:\n",
    "    image.show()"
   ]
  },
  {
   "cell_type": "code",
   "execution_count": null,
   "metadata": {},
   "outputs": [],
   "source": []
  }
 ],
 "metadata": {
  "kernelspec": {
   "display_name": "mlops",
   "language": "python",
   "name": "python3"
  },
  "language_info": {
   "codemirror_mode": {
    "name": "ipython",
    "version": 3
   },
   "file_extension": ".py",
   "mimetype": "text/x-python",
   "name": "python",
   "nbconvert_exporter": "python",
   "pygments_lexer": "ipython3",
   "version": "3.11.9"
  }
 },
 "nbformat": 4,
 "nbformat_minor": 2
}
